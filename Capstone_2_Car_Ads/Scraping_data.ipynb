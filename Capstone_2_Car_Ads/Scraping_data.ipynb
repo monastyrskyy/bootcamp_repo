{
 "cells": [
  {
   "cell_type": "code",
   "execution_count": 2,
   "metadata": {},
   "outputs": [],
   "source": [
    "import requests\n",
    "from bs4 import BeautifulSoup\n",
    "import lxml\n",
    "import urllib.request\n",
    "import os\n",
    "from datetime import date\n",
    "from time import sleep\n",
    "from tqdm import tqdm"
   ]
  },
  {
   "cell_type": "code",
   "execution_count": 1,
   "metadata": {},
   "outputs": [],
   "source": [
    "url = 'https://www.carfax.com/api/vehicles?zip=95618&radius=1000&sort=BEST&make=Ford&certified=true&page=5&dynamicRadius=false'\n",
    "\n",
    "headers = {'User-Agent': 'Mozilla/5.0 (Macintosh; Intel Mac OS X 10_11_5) AppleWebKit/537.36 (KHTML, like Gecko) Chrome/50.0.2661.102 Safari/537.36'}\n",
    "\n",
    "zip_code = [94016, 10001, 96795, 75001]\n",
    "zip_code.sort()\n",
    "\n",
    "makes = ['Ford', 'Toyota', 'Acura', 'Audi', 'BMW', 'Buick', 'Cadillac', 'Honda', \n",
    "         'Jeep', 'Kia', 'Mazda', 'Nissan', 'Subaru', 'Tesla', 'Volvo', 'Volkswagen', 'Mini', 'Lexus', 'Ram', 'Hyundai', 'Porsche']\n",
    "makes.sort()"
   ]
  },
  {
   "cell_type": "code",
   "execution_count": 18,
   "metadata": {},
   "outputs": [],
   "source": [
    "today = str(date.today())"
   ]
  },
  {
   "cell_type": "code",
   "execution_count": 26,
   "metadata": {},
   "outputs": [],
   "source": [
    "def car_scrape(headers, zip_code, makes):\n",
    "    for zip_order in range(4):\n",
    "        for make in makes:\n",
    "            if not os.path.isdir(f'data/{zip_code[zip_order]}/{make}'):\n",
    "                os.mkdir(f'data/{zip_code[zip_order]}/{make}')\n",
    "\n",
    "            for i in tqdm(range(10)):\n",
    "                url = f'https://www.carfax.com/api/vehicles?zip={zip_code[zip_order]}&radius=400&sort=BEST&make={make}&certified=true&page={i+1}&dynamicRadius=false'\n",
    "                result = requests.get(url, headers=headers)\n",
    "                text_file = open(f\"data/{zip_code[zip_order]}/{make}/{today}{make}{i+1}.txt\", \"w\")\n",
    "                n = text_file.write(result.content.decode())\n",
    "                text_file.close()\n",
    "                sleep(0.5) #include a check for when a captcha pops up"
   ]
  },
  {
   "cell_type": "code",
   "execution_count": null,
   "metadata": {},
   "outputs": [],
   "source": []
  }
 ],
 "metadata": {
  "kernelspec": {
   "display_name": "Python 3",
   "language": "python",
   "name": "python3"
  },
  "language_info": {
   "codemirror_mode": {
    "name": "ipython",
    "version": 3
   },
   "file_extension": ".py",
   "mimetype": "text/x-python",
   "name": "python",
   "nbconvert_exporter": "python",
   "pygments_lexer": "ipython3",
   "version": "3.7.4"
  }
 },
 "nbformat": 4,
 "nbformat_minor": 2
}
