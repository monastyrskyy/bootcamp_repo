{
 "cells": [
  {
   "cell_type": "code",
   "execution_count": 25,
   "metadata": {},
   "outputs": [],
   "source": [
    "import pandas as pd\n",
    "import numpy as np\n",
    "import json\n",
    "from tqdm import tqdm"
   ]
  },
  {
   "cell_type": "markdown",
   "metadata": {},
   "source": [
    "Below are the various zip codes and makes of scraped data that are also used in naming of the pulled files."
   ]
  },
  {
   "cell_type": "code",
   "execution_count": 27,
   "metadata": {},
   "outputs": [],
   "source": [
    "zip_codes = [94016, 10001, 96795, 75001]\n",
    "zip_codes.sort()\n",
    "\n",
    "makes = ['Ford', 'Toyota', 'Acura', 'Audi', 'BMW', 'Buick', 'Cadillac', 'Honda', \n",
    "         'Jeep', 'Kia', 'Mazda', 'Nissan', 'Subaru', 'Tesla', 'Volvo', 'Volkswagen', 'Mini', 'Lexus', 'Ram', 'Hyundai', 'Porsche']\n",
    "makes.sort()"
   ]
  },
  {
   "cell_type": "markdown",
   "metadata": {},
   "source": [
    "Below are the nested JSON keys available in the data."
   ]
  },
  {
   "cell_type": "code",
   "execution_count": 28,
   "metadata": {},
   "outputs": [],
   "source": [
    "loc_features = ['city', 'state']\n",
    "dealer_features = ['latitude','longitude','dealerReviewRating', 'dealerReviewCount', 'city', 'state']\n",
    "car_features = ['id', 'vin', 'year',  'make', 'model', 'subModel', 'trim', 'subTrim', 'topOptions', \n",
    "                'newTopOptions',  'mileage', 'listPrice', 'currentPrice', 'badge', 'exteriorColor',\n",
    "                'interiorColor', 'engine', 'displacement', 'drivetype', 'transmission', 'fuel', 'mpgCity',\n",
    "                'mpgHighway', 'bodytype', 'vehicleCondition', 'cabType', 'bedLength', 'imageCount',\n",
    "                'oneOwner', 'noAccidents', 'serviceRecords', 'personalUse']"
   ]
  },
  {
   "cell_type": "markdown",
   "metadata": {},
   "source": [
    "Below I go through the nested scraped text files and combine it all in a pandas data frame to be saved as a csv."
   ]
  },
  {
   "cell_type": "code",
   "execution_count": null,
   "metadata": {},
   "outputs": [],
   "source": [
    "data = pd.DataFrame(columns = loc_features + dealer_features + car_features)\n",
    "for zip_code in zip_codes:\n",
    "    for make in makes:\n",
    "        for w in tqdm(range(5)):\n",
    "            for j in range(50):\n",
    "                j += 1    \n",
    "\n",
    "                try:\n",
    "                    car = open('scraped/data/{}/{}/2020-02-1{}{}{}.txt'.format(zip_code,make,w,make,j), 'r').read()\n",
    "                    res = json.loads(car)\n",
    "\n",
    "                    for i in range(25):\n",
    "                        row = []\n",
    "\n",
    "                        for loc_feature in loc_features:\n",
    "                            row.append(res['searchArea'][loc_feature])\n",
    "\n",
    "                        for dealer_feature in dealer_features:\n",
    "                            row.append(res['listings'][i]['dealer'][dealer_feature])\n",
    "\n",
    "                        for car_feature in car_features:\n",
    "                            if car_feature in ['topOptions', 'newTopOptions']:\n",
    "                                row.append(len(res['listings'][i][car_feature])) if res['listings'][i][car_feature] is not None else row.append(0) \n",
    "                            else:\n",
    "                                row.append(res['listings'][i][car_feature])\n",
    "\n",
    "                        data = data.append(pd.Series(row, index=data.columns), ignore_index=True)\n",
    "\n",
    "                except FileNotFoundError: #for when the file is missing\n",
    "                    pass\n",
    "                except IndexError: # for when there aren't 25 cars in a file\n",
    "                    pass"
   ]
  },
  {
   "cell_type": "code",
   "execution_count": null,
   "metadata": {},
   "outputs": [],
   "source": []
  },
  {
   "cell_type": "code",
   "execution_count": null,
   "metadata": {},
   "outputs": [],
   "source": []
  },
  {
   "cell_type": "code",
   "execution_count": null,
   "metadata": {},
   "outputs": [],
   "source": []
  },
  {
   "cell_type": "code",
   "execution_count": null,
   "metadata": {},
   "outputs": [],
   "source": []
  },
  {
   "cell_type": "code",
   "execution_count": null,
   "metadata": {},
   "outputs": [],
   "source": []
  },
  {
   "cell_type": "code",
   "execution_count": null,
   "metadata": {},
   "outputs": [],
   "source": []
  }
 ],
 "metadata": {
  "kernelspec": {
   "display_name": "Python 3",
   "language": "python",
   "name": "python3"
  },
  "language_info": {
   "codemirror_mode": {
    "name": "ipython",
    "version": 3
   },
   "file_extension": ".py",
   "mimetype": "text/x-python",
   "name": "python",
   "nbconvert_exporter": "python",
   "pygments_lexer": "ipython3",
   "version": "3.7.4"
  }
 },
 "nbformat": 4,
 "nbformat_minor": 2
}
